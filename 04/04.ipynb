{
 "cells": [
  {
   "cell_type": "code",
   "execution_count": 1,
   "id": "b2c64a2c",
   "metadata": {},
   "outputs": [],
   "source": [
    "with open('input') as inp:\n",
    "    data = sorted(line.strip() for line in inp.readlines())"
   ]
  },
  {
   "cell_type": "code",
   "execution_count": 2,
   "id": "a173dacb",
   "metadata": {},
   "outputs": [],
   "source": [
    "from itertools import zip_longest\n",
    "\n",
    "def grouper(iterable, n, fillvalue=None):\n",
    "    \"Collect data into fixed-length chunks or blocks\"\n",
    "    # grouper('ABCDEFG', 3, 'x') --> ABC DEF Gxx\"\n",
    "    args = [iter(iterable)] * n\n",
    "    return zip_longest(*args, fillvalue=fillvalue)"
   ]
  },
  {
   "cell_type": "code",
   "execution_count": 3,
   "id": "a43c20be",
   "metadata": {},
   "outputs": [],
   "source": [
    "from collections import namedtuple\n",
    "\n",
    "Record = namedtuple('Record', ['month', 'day', 'hour', 'minute', 'message'])"
   ]
  },
  {
   "cell_type": "code",
   "execution_count": 4,
   "id": "7a1d17e9",
   "metadata": {},
   "outputs": [],
   "source": [
    "def get_record_from_line(r):\n",
    "    return Record(int(r[6:8]), int(r[9:11]), int(r[12:14]), int(r[15:17]), r[19:])"
   ]
  },
  {
   "cell_type": "code",
   "execution_count": 5,
   "id": "aec3f6a1",
   "metadata": {},
   "outputs": [],
   "source": [
    "def process_guard_records(records):\n",
    "    if not records:\n",
    "        return\n",
    "    shift_start = records.pop(0)\n",
    "    guard_id = int(shift_start.message.split('#')[1].split(' ')[0])\n",
    "    guard_shifts[guard_id] = guard_shifts.get(guard_id, 0) + 1\n",
    "    if guard_id not in guard_sleeps:\n",
    "        guard_sleeps[guard_id] = {}\n",
    "    for a, b in grouper(records, 2):\n",
    "        assert a.message == 'falls asleep' and b.message == 'wakes up'\n",
    "        assert (a.month, a.day, a.hour) == (b.month, b.day, b.hour)\n",
    "        assert a.minute < b.minute\n",
    "        asleep = range(a.minute, b.minute)\n",
    "        for m in asleep:\n",
    "            guard_sleeps[guard_id][m] = guard_sleeps[guard_id].get(m, 0) + 1"
   ]
  },
  {
   "cell_type": "code",
   "execution_count": 6,
   "id": "89bf5ee8",
   "metadata": {},
   "outputs": [],
   "source": [
    "import operator\n",
    "\n",
    "def sleepy_guard(data):\n",
    "    records = [get_record_from_line(r) for r in data]\n",
    "    guard_records = []\n",
    "    for r in records:\n",
    "        if r.message.startswith('Guard #'):\n",
    "            process_guard_records(guard_records)\n",
    "            guard_records = [r]\n",
    "        else:\n",
    "            guard_records.append(r)\n",
    "    process_guard_records(guard_records)\n",
    "\n",
    "    guard_sleep_counts = {k: (sum(v.values())) for k, v in guard_sleeps.items()}\n",
    "\n",
    "    most_asleep_guard = max(guard_sleep_counts.items(),\n",
    "                            key=operator.itemgetter(1))[0]\n",
    "\n",
    "    most_asleep_guard_sleep_minutes = guard_sleeps[most_asleep_guard]\n",
    "    most_asleep_minute = max(most_asleep_guard_sleep_minutes.items(),\n",
    "                             key=operator.itemgetter(1))[0]\n",
    "\n",
    "    most_often_asleep_minutes = [(g, max(s.items(), key=operator.itemgetter(1)))\n",
    "                                  for g, s in guard_sleeps.items() if s]\n",
    "\n",
    "    most_often_asleep_guard = max(\n",
    "        most_often_asleep_minutes, key=lambda e: e[1][1]\n",
    "    )\n",
    "\n",
    "    return (\n",
    "        most_asleep_guard * most_asleep_minute,\n",
    "        most_often_asleep_guard[0] * most_often_asleep_guard[1][0]\n",
    "    )"
   ]
  },
  {
   "cell_type": "code",
   "execution_count": 7,
   "id": "aa81309f",
   "metadata": {},
   "outputs": [],
   "source": [
    "test_data = \"\"\"[1518-11-01 00:00] Guard #10 begins shift\n",
    "[1518-11-01 00:05] falls asleep\n",
    "[1518-11-01 00:25] wakes up\n",
    "[1518-11-01 00:30] falls asleep\n",
    "[1518-11-01 00:55] wakes up\n",
    "[1518-11-01 23:58] Guard #99 begins shift\n",
    "[1518-11-02 00:40] falls asleep\n",
    "[1518-11-02 00:50] wakes up\n",
    "[1518-11-03 00:05] Guard #10 begins shift\n",
    "[1518-11-03 00:24] falls asleep\n",
    "[1518-11-03 00:29] wakes up\n",
    "[1518-11-04 00:02] Guard #99 begins shift\n",
    "[1518-11-04 00:36] falls asleep\n",
    "[1518-11-04 00:46] wakes up\n",
    "[1518-11-05 00:03] Guard #99 begins shift\n",
    "[1518-11-05 00:45] falls asleep\n",
    "[1518-11-05 00:55] wakes up\"\"\".split('\\n')"
   ]
  },
  {
   "cell_type": "code",
   "execution_count": 8,
   "id": "914db8ec",
   "metadata": {},
   "outputs": [],
   "source": [
    "guard_sleeps = {}\n",
    "guard_shifts = {}\n",
    "assert sleepy_guard(test_data) == (240, 4455)"
   ]
  },
  {
   "cell_type": "code",
   "execution_count": 9,
   "id": "203b4b17",
   "metadata": {},
   "outputs": [],
   "source": [
    "guard_sleeps = {}\n",
    "guard_shifts = {}\n",
    "a, b = sleepy_guard(data)"
   ]
  },
  {
   "cell_type": "code",
   "execution_count": 10,
   "id": "dae2a67a",
   "metadata": {},
   "outputs": [
    {
     "name": "stdout",
     "output_type": "stream",
     "text": [
      "Part 1:\n",
      "11367\n"
     ]
    }
   ],
   "source": [
    "print(\"Part 1:\")\n",
    "print(a)"
   ]
  },
  {
   "cell_type": "code",
   "execution_count": 11,
   "id": "f3d869f2",
   "metadata": {},
   "outputs": [
    {
     "name": "stdout",
     "output_type": "stream",
     "text": [
      "Part 2:\n",
      "36896\n"
     ]
    }
   ],
   "source": [
    "print(\"Part 2:\")\n",
    "print(b)"
   ]
  }
 ],
 "metadata": {
  "kernelspec": {
   "display_name": "Python 3 (ipykernel)",
   "language": "python",
   "name": "python3"
  },
  "language_info": {
   "codemirror_mode": {
    "name": "ipython",
    "version": 3
   },
   "file_extension": ".py",
   "mimetype": "text/x-python",
   "name": "python",
   "nbconvert_exporter": "python",
   "pygments_lexer": "ipython3",
   "version": "3.9.5"
  }
 },
 "nbformat": 4,
 "nbformat_minor": 5
}
