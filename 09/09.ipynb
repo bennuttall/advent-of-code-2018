{
 "cells": [
  {
   "cell_type": "code",
   "execution_count": 1,
   "id": "53ab1d4e",
   "metadata": {},
   "outputs": [],
   "source": [
    "from collections import deque\n",
    "\n",
    "class MarbleCircle:\n",
    "    def __init__(self, maxlen):\n",
    "        self.circle = deque([0], maxlen=maxlen)\n",
    "\n",
    "    def __len__(self):\n",
    "        return len(self.circle)\n",
    "\n",
    "    def __eq__(self, other):\n",
    "        copy = self.circle.copy()\n",
    "        while copy[0] != 0:\n",
    "            copy.rotate()\n",
    "        return list(copy) == other\n",
    "\n",
    "    def place(self, marble):\n",
    "        self.circle.rotate(-1)\n",
    "        self.circle.append(marble)\n",
    "\n",
    "    @property\n",
    "    def bonus(self):\n",
    "        self.circle.rotate(7)\n",
    "        bonus = self.circle.pop()\n",
    "        self.circle.rotate(-1)\n",
    "        return bonus\n",
    "\n",
    "    @property\n",
    "    def current_marble(self):\n",
    "        return self.circle[-1]"
   ]
  },
  {
   "cell_type": "code",
   "execution_count": 2,
   "id": "233f541e",
   "metadata": {},
   "outputs": [],
   "source": [
    "from itertools import cycle\n",
    "\n",
    "class MarbleGame:\n",
    "    def __init__(self, players, marbles):\n",
    "        self.scores = {p: 0 for p in range(players)}\n",
    "        self.players = cycle(self.scores)\n",
    "        self.marbles = list(reversed(range(1, marbles+1)))\n",
    "        self.circle = MarbleCircle(maxlen=marbles+1)\n",
    "\n",
    "    def __next__(self):\n",
    "        current_player = next(self.players)\n",
    "        next_marble = self.marbles.pop()\n",
    "        if next_marble % 23 == 0:\n",
    "            bonus = self.circle.bonus\n",
    "            self.scores[current_player] += next_marble + bonus\n",
    "        else:\n",
    "            self.circle.place(next_marble)\n",
    "\n",
    "    @property\n",
    "    def is_active(self):\n",
    "        return len(self.marbles) > 0\n",
    "\n",
    "    @property\n",
    "    def high_score(self):\n",
    "        return max(self.scores.values())"
   ]
  },
  {
   "cell_type": "code",
   "execution_count": 3,
   "id": "aff6d467",
   "metadata": {},
   "outputs": [],
   "source": [
    "game = MarbleGame(players=9, marbles=25)\n",
    "circle = game.circle\n",
    "assert len(game.marbles) == 25\n",
    "assert circle == [0]\n",
    "assert game.circle.current_marble == 0\n",
    "assert len(game.scores) == 9\n",
    "assert sum(game.scores.values()) == 0\n",
    "next(game)\n",
    "assert len(game.marbles) == 24\n",
    "assert circle == [0, 1]\n",
    "assert game.circle.current_marble == 1\n",
    "assert sum(game.scores.values()) == 0\n",
    "next(game)\n",
    "assert len(game.marbles) == 23\n",
    "assert circle == [0, 2, 1]\n",
    "assert game.circle.current_marble == 2\n",
    "assert sum(game.scores.values()) == 0"
   ]
  },
  {
   "cell_type": "code",
   "execution_count": 4,
   "id": "b5373900",
   "metadata": {},
   "outputs": [],
   "source": [
    "game = MarbleGame(players=9, marbles=25)\n",
    "for i in range(22):\n",
    "    next(game)\n",
    "assert sum(game.scores.values()) == 0\n",
    "next(game)\n",
    "assert game.scores[4] == 23 + 9"
   ]
  },
  {
   "cell_type": "code",
   "execution_count": 5,
   "id": "566285fb",
   "metadata": {},
   "outputs": [],
   "source": [
    "def test(players, marbles, score):\n",
    "    game = MarbleGame(players, marbles)\n",
    "    for i in range(marbles):\n",
    "        next(game)\n",
    "    assert game.high_score == score, game.scores"
   ]
  },
  {
   "cell_type": "code",
   "execution_count": 6,
   "id": "a2e7eee5",
   "metadata": {},
   "outputs": [],
   "source": [
    "test(9, 25, 32)\n",
    "test(10, 1618, 8317)\n",
    "test(13, 7999, 146373)\n",
    "test(17, 1104, 2764)\n",
    "test(21, 6111, 54718)\n",
    "test(30, 5807, 37305)"
   ]
  },
  {
   "cell_type": "code",
   "execution_count": 7,
   "id": "eb98c6d2",
   "metadata": {},
   "outputs": [
    {
     "name": "stdout",
     "output_type": "stream",
     "text": [
      "Part 1:\n",
      "371284\n"
     ]
    }
   ],
   "source": [
    "game = MarbleGame(players=473, marbles=70904)\n",
    "while game.is_active:\n",
    "    next(game)\n",
    "\n",
    "print(\"Part 1:\")\n",
    "print(game.high_score)"
   ]
  },
  {
   "cell_type": "code",
   "execution_count": 8,
   "id": "8c54475e",
   "metadata": {},
   "outputs": [
    {
     "name": "stdout",
     "output_type": "stream",
     "text": [
      "Part 2:\n",
      "3038972494\n"
     ]
    }
   ],
   "source": [
    "game = MarbleGame(players=473, marbles=70904*100)\n",
    "while game.is_active:\n",
    "    next(game)\n",
    "    \n",
    "print(\"Part 2:\")\n",
    "print(game.high_score)"
   ]
  }
 ],
 "metadata": {
  "kernelspec": {
   "display_name": "Python 3 (ipykernel)",
   "language": "python",
   "name": "python3"
  },
  "language_info": {
   "codemirror_mode": {
    "name": "ipython",
    "version": 3
   },
   "file_extension": ".py",
   "mimetype": "text/x-python",
   "name": "python",
   "nbconvert_exporter": "python",
   "pygments_lexer": "ipython3",
   "version": "3.9.5"
  }
 },
 "nbformat": 4,
 "nbformat_minor": 5
}
