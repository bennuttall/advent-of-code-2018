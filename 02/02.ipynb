{
 "cells": [
  {
   "cell_type": "code",
   "execution_count": 1,
   "id": "b6e01448",
   "metadata": {},
   "outputs": [],
   "source": [
    "with open('input') as inp:\n",
    "    data = [s.strip() for s in inp.readlines()]"
   ]
  },
  {
   "cell_type": "code",
   "execution_count": 2,
   "id": "42b971ad",
   "metadata": {},
   "outputs": [],
   "source": [
    "test_data = [\n",
    "    'abcdef',\n",
    "    'bababc',\n",
    "    'abbcde',\n",
    "    'abcccd',\n",
    "    'aabcdd',\n",
    "    'abcdee',\n",
    "    'ababab',\n",
    "]\n",
    "\n",
    "test_data_2 = [\n",
    "    'abcde',\n",
    "    'fghij',\n",
    "    'klmno',\n",
    "    'pqrst',\n",
    "    'fguij',\n",
    "    'axcye',\n",
    "    'wvxyz',\n",
    "]"
   ]
  },
  {
   "cell_type": "code",
   "execution_count": 3,
   "id": "14fa49e2",
   "metadata": {},
   "outputs": [],
   "source": [
    "def check(id, n):\n",
    "    return any(id.count(c) == n for c in set(id))"
   ]
  },
  {
   "cell_type": "code",
   "execution_count": 4,
   "id": "6a97d7b8",
   "metadata": {},
   "outputs": [],
   "source": [
    "def checksum(data):\n",
    "    two = three = 0\n",
    "    for id in data:\n",
    "        if check(id, 2):\n",
    "            two += 1\n",
    "        if check(id, 3):\n",
    "            three += 1\n",
    "    return two * three"
   ]
  },
  {
   "cell_type": "code",
   "execution_count": 5,
   "id": "2f83e8c6",
   "metadata": {},
   "outputs": [],
   "source": [
    "def correct_letters(data):\n",
    "    ida, idb = find_close_ids(data)\n",
    "    for i, (ca, cb) in enumerate(zip(ida, idb)):\n",
    "        if ca != cb:\n",
    "            return ida[:i] + ida[i+1:]"
   ]
  },
  {
   "cell_type": "code",
   "execution_count": 6,
   "id": "b2824985",
   "metadata": {},
   "outputs": [],
   "source": [
    "def find_close_ids(data):\n",
    "    for ida in data:\n",
    "        for idb in data:\n",
    "            if compare(ida, idb) == 1:\n",
    "                return (ida, idb)"
   ]
  },
  {
   "cell_type": "code",
   "execution_count": 7,
   "id": "f0efe786",
   "metadata": {},
   "outputs": [],
   "source": [
    "def compare(ida, idb):\n",
    "    s = 0\n",
    "    for ca, cb in zip(ida, idb):\n",
    "        if ca != cb:\n",
    "            s += 1\n",
    "    return s"
   ]
  },
  {
   "cell_type": "code",
   "execution_count": 8,
   "id": "b0119164",
   "metadata": {},
   "outputs": [],
   "source": [
    "assert checksum(test_data) == 12\n",
    "assert correct_letters(test_data_2) == 'fgij'"
   ]
  },
  {
   "cell_type": "code",
   "execution_count": 9,
   "id": "072c3170",
   "metadata": {},
   "outputs": [
    {
     "name": "stdout",
     "output_type": "stream",
     "text": [
      "Part 1:\n",
      "6696\n"
     ]
    }
   ],
   "source": [
    "print(\"Part 1:\")\n",
    "print(checksum(data))"
   ]
  },
  {
   "cell_type": "code",
   "execution_count": 10,
   "id": "f3d918cd",
   "metadata": {},
   "outputs": [
    {
     "name": "stdout",
     "output_type": "stream",
     "text": [
      "Part 2:\n",
      "bvnfawcnyoeyudzrpgslimtkj\n"
     ]
    }
   ],
   "source": [
    "print(\"Part 2:\")\n",
    "print(correct_letters(data))"
   ]
  }
 ],
 "metadata": {
  "kernelspec": {
   "display_name": "Python 3 (ipykernel)",
   "language": "python",
   "name": "python3"
  },
  "language_info": {
   "codemirror_mode": {
    "name": "ipython",
    "version": 3
   },
   "file_extension": ".py",
   "mimetype": "text/x-python",
   "name": "python",
   "nbconvert_exporter": "python",
   "pygments_lexer": "ipython3",
   "version": "3.9.5"
  }
 },
 "nbformat": 4,
 "nbformat_minor": 5
}
