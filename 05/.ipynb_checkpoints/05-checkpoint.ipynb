{
 "cells": [
  {
   "cell_type": "code",
   "execution_count": 1,
   "id": "5aaf5ffb",
   "metadata": {},
   "outputs": [],
   "source": [
    "with open('input') as inp:\n",
    "    data = inp.read().strip()"
   ]
  },
  {
   "cell_type": "code",
   "execution_count": 2,
   "id": "aba1dcb2",
   "metadata": {},
   "outputs": [],
   "source": [
    "test_data = {\n",
    "    'aA': (0, 0),\n",
    "    'abBA': (0, 0),\n",
    "    'abAB': (4, 0),\n",
    "    'aabAAB': (6, 0),\n",
    "    'dabAcCaCBAcCcaDA': (10, 4),\n",
    "}"
   ]
  },
  {
   "cell_type": "code",
   "execution_count": 3,
   "id": "b53b48e7",
   "metadata": {},
   "outputs": [],
   "source": [
    "alphabet = 'abcdefghijklmnopqrstuvwxyz'\n",
    "\n",
    "replacements = ([f'{char}{char.upper()}' for char in alphabet] +\n",
    "                [f'{char.upper()}{char}' for char in alphabet])"
   ]
  },
  {
   "cell_type": "code",
   "execution_count": 4,
   "id": "4a72a1ef",
   "metadata": {},
   "outputs": [],
   "source": [
    "def replace(s):\n",
    "    while any(rep in s for rep in replacements):\n",
    "        for rep in replacements:\n",
    "            s = s.replace(rep, '')\n",
    "    return len(s)"
   ]
  },
  {
   "cell_type": "code",
   "execution_count": 5,
   "id": "a9a6854b",
   "metadata": {},
   "outputs": [],
   "source": [
    "def find_best_replacement(s):\n",
    "    return min(\n",
    "        replace(s.replace(ch, '').replace(ch.upper(), '')) for ch in alphabet\n",
    "    )"
   ]
  },
  {
   "cell_type": "code",
   "execution_count": 6,
   "id": "d891ba49",
   "metadata": {},
   "outputs": [],
   "source": [
    "for s, n in test_data.items():\n",
    "    assert replace(s) == n[0], (s, n[0])\n",
    "    assert find_best_replacement(s) == n[1], (s, n[1])"
   ]
  },
  {
   "cell_type": "code",
   "execution_count": 7,
   "id": "7e78949a",
   "metadata": {},
   "outputs": [
    {
     "name": "stdout",
     "output_type": "stream",
     "text": [
      "Part 1:\n",
      "11264\n"
     ]
    }
   ],
   "source": [
    "print(\"Part 1:\")\n",
    "print(replace(data))"
   ]
  },
  {
   "cell_type": "code",
   "execution_count": 8,
   "id": "9e1a1ba6",
   "metadata": {},
   "outputs": [
    {
     "name": "stdout",
     "output_type": "stream",
     "text": [
      "Part 2:\n",
      "4552\n"
     ]
    }
   ],
   "source": [
    "print(\"Part 2:\")\n",
    "print(find_best_replacement(data))"
   ]
  }
 ],
 "metadata": {
  "kernelspec": {
   "display_name": "Python 3 (ipykernel)",
   "language": "python",
   "name": "python3"
  },
  "language_info": {
   "codemirror_mode": {
    "name": "ipython",
    "version": 3
   },
   "file_extension": ".py",
   "mimetype": "text/x-python",
   "name": "python",
   "nbconvert_exporter": "python",
   "pygments_lexer": "ipython3",
   "version": "3.9.5"
  }
 },
 "nbformat": 4,
 "nbformat_minor": 5
}
