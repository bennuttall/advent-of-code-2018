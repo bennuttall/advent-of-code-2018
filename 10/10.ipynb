{
 "cells": [
  {
   "cell_type": "code",
   "execution_count": 1,
   "id": "d3276a71",
   "metadata": {},
   "outputs": [],
   "source": [
    "from dataclasses import dataclass\n",
    "\n",
    "@dataclass\n",
    "class Pos:\n",
    "    x: int\n",
    "    y: int\n",
    "\n",
    "@dataclass\n",
    "class Velocity:\n",
    "    x: int\n",
    "    y: int"
   ]
  },
  {
   "cell_type": "code",
   "execution_count": 2,
   "id": "a190ed3b",
   "metadata": {},
   "outputs": [],
   "source": [
    "class Point:\n",
    "    def __init__(self, line):\n",
    "        px, py, vx, vy = (\n",
    "            line.replace('position=<', '')\n",
    "                .replace('velocity=<', ',')\n",
    "                .replace(' ', '')\n",
    "                .replace('>', '')\n",
    "                .replace(' ', '')\n",
    "                .split(',')\n",
    "        )\n",
    "        self.pos = Pos(int(px), int(py))\n",
    "        self.velocity = Velocity(int(vx), int(vy))\n",
    "        \n",
    "    def __repr__(self):\n",
    "        return f\"<Point {self.pos}, {self.velocity}>\"\n",
    "        \n",
    "    def __next__(self):\n",
    "        x = self.pos.x + self.velocity.x\n",
    "        y = self.pos.y + self.velocity.y\n",
    "        self.pos = Pos(x, y)"
   ]
  },
  {
   "cell_type": "code",
   "execution_count": 3,
   "id": "2cfa46bb",
   "metadata": {
    "scrolled": true
   },
   "outputs": [],
   "source": [
    "with open('input') as f:\n",
    "    points = [Point(line.strip()) for line in f]"
   ]
  },
  {
   "cell_type": "code",
   "execution_count": 4,
   "id": "98b7f3a8",
   "metadata": {},
   "outputs": [],
   "source": [
    "def get_grid_boundaries(points):\n",
    "    min_x = min(point.pos.x for point in points)\n",
    "    max_x = max(point.pos.x for point in points)\n",
    "    min_y = min(point.pos.y for point in points)\n",
    "    max_y = max(point.pos.y for point in points)\n",
    "    return (min_x, max_x, min_y, max_y)"
   ]
  },
  {
   "cell_type": "code",
   "execution_count": 5,
   "id": "a5f51043",
   "metadata": {},
   "outputs": [],
   "source": [
    "def get_grid_size(points):\n",
    "    min_x, max_x, min_y, max_y = get_grid_boundaries(points)\n",
    "    return (max_x - min_x) * (max_y - min_y)"
   ]
  },
  {
   "cell_type": "code",
   "execution_count": 6,
   "id": "e140ce40",
   "metadata": {},
   "outputs": [],
   "source": [
    "min_size = get_grid_size(points)\n",
    "i = 0\n",
    "while True:\n",
    "    i += 1\n",
    "    for point in points:\n",
    "        next(point)\n",
    "    size = min([min_size, get_grid_size(points)])\n",
    "    if size < min_size:\n",
    "        min_size = size\n",
    "        if min_size == 549:\n",
    "            break"
   ]
  },
  {
   "cell_type": "code",
   "execution_count": 7,
   "id": "f7406ce2",
   "metadata": {},
   "outputs": [
    {
     "name": "stdout",
     "output_type": "stream",
     "text": [
      "Part 1:\n",
      "█████   █████   █    █     ███  ██████  ██████  █    █  █    █\n",
      "█    █  █    █  ██   █      █   █       █       ██   █  █    █\n",
      "█    █  █    █  ██   █      █   █       █       ██   █  █    █\n",
      "█    █  █    █  █ █  █      █   █       █       █ █  █  █    █\n",
      "█████   █████   █ █  █      █   █████   █████   █ █  █  ██████\n",
      "█       █       █  █ █      █   █       █       █  █ █  █    █\n",
      "█       █       █  █ █      █   █       █       █  █ █  █    █\n",
      "█       █       █   ██  █   █   █       █       █   ██  █    █\n",
      "█       █       █   ██  █   █   █       █       █   ██  █    █\n",
      "█       █       █    █   ███    ██████  ██████  █    █  █    █\n"
     ]
    }
   ],
   "source": [
    "point_positions = {(point.pos.x, point.pos.y) for point in points}\n",
    "min_x, max_x, min_y, max_y = get_grid_boundaries(points)\n",
    "\n",
    "print(\"Part 1:\")\n",
    "for y in range(min_y, max_y + 1):\n",
    "    for x in range(min_x, max_x + 1):\n",
    "        if (x, y) in point_positions:\n",
    "            print('█', end='')\n",
    "        else:\n",
    "            print(' ', end='')\n",
    "    print()"
   ]
  },
  {
   "cell_type": "code",
   "execution_count": 8,
   "id": "f2af2f2d",
   "metadata": {},
   "outputs": [
    {
     "name": "stdout",
     "output_type": "stream",
     "text": [
      "Part 2:\n",
      "10375\n"
     ]
    }
   ],
   "source": [
    "print(\"Part 2:\")\n",
    "print(i)"
   ]
  }
 ],
 "metadata": {
  "kernelspec": {
   "display_name": "Python 3",
   "language": "python",
   "name": "python3"
  },
  "language_info": {
   "codemirror_mode": {
    "name": "ipython",
    "version": 3
   },
   "file_extension": ".py",
   "mimetype": "text/x-python",
   "name": "python",
   "nbconvert_exporter": "python",
   "pygments_lexer": "ipython3",
   "version": "3.10.0"
  }
 },
 "nbformat": 4,
 "nbformat_minor": 5
}
