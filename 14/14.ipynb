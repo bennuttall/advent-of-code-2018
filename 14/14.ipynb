{
 "cells": [
  {
   "cell_type": "code",
   "execution_count": 1,
   "id": "27157f7d",
   "metadata": {},
   "outputs": [],
   "source": [
    "INPUT = 890691"
   ]
  },
  {
   "cell_type": "code",
   "execution_count": 2,
   "id": "2b901302",
   "metadata": {},
   "outputs": [],
   "source": [
    "def make_recipes(recipes: str, turns: int) -> str:\n",
    "    elf_positions = (0, 1)\n",
    "    while len(recipes) < turns + 10:\n",
    "        a, b = elf_positions\n",
    "        new = [int(i) for i in str(int(recipes[a]) + int(recipes[b]))]\n",
    "        recipes += ''.join(str(c) for c in new)\n",
    "        elf_positions = ((a + 1 + int(recipes[a])) % len(recipes), (b + 1 + int(recipes[b])) % len(recipes))\n",
    "    return ''.join(str(i) for i in recipes[turns : turns + 10])"
   ]
  },
  {
   "cell_type": "code",
   "execution_count": 3,
   "id": "7c3d3e49",
   "metadata": {},
   "outputs": [
    {
     "name": "stdout",
     "output_type": "stream",
     "text": [
      "Part 1:\n",
      "8176111038\n"
     ]
    }
   ],
   "source": [
    "print(\"Part 1:\")\n",
    "print(make_recipes('37', INPUT))"
   ]
  },
  {
   "cell_type": "code",
   "execution_count": 4,
   "id": "9385bf1d",
   "metadata": {},
   "outputs": [],
   "source": [
    "def make_recipes_2(recipes: str, pattern: str) -> int:\n",
    "    elf_positions = (0, 1)\n",
    "    while not recipes.endswith(pattern):\n",
    "        a, b = elf_positions\n",
    "        new = [int(i) for i in str(int(recipes[a]) + int(recipes[b]))]\n",
    "        recipes += ''.join(str(c) for c in new)\n",
    "        elf_positions = ((a + 1 + int(recipes[a])) % len(recipes), (b + 1 + int(recipes[b])) % len(recipes))\n",
    "    return recipes.index(pattern)"
   ]
  },
  {
   "cell_type": "code",
   "execution_count": 5,
   "id": "c1cc1328",
   "metadata": {},
   "outputs": [
    {
     "name": "stdout",
     "output_type": "stream",
     "text": [
      "Part 2:\n",
      "20225578\n"
     ]
    }
   ],
   "source": [
    "print(\"Part 2:\")\n",
    "print(make_recipes_2('37', str(INPUT)))"
   ]
  }
 ],
 "metadata": {
  "kernelspec": {
   "display_name": "Python 3",
   "language": "python",
   "name": "python3"
  },
  "language_info": {
   "codemirror_mode": {
    "name": "ipython",
    "version": 3
   },
   "file_extension": ".py",
   "mimetype": "text/x-python",
   "name": "python",
   "nbconvert_exporter": "python",
   "pygments_lexer": "ipython3",
   "version": "3.10.0"
  }
 },
 "nbformat": 4,
 "nbformat_minor": 5
}
