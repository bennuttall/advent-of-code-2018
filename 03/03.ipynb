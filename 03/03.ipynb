{
 "cells": [
  {
   "cell_type": "code",
   "execution_count": 1,
   "id": "35f78017",
   "metadata": {},
   "outputs": [],
   "source": [
    "with open('input') as inp:\n",
    "    data = [line.strip() for line in inp.readlines()]"
   ]
  },
  {
   "cell_type": "code",
   "execution_count": 2,
   "id": "9985de3d",
   "metadata": {},
   "outputs": [],
   "source": [
    "def count_overlap(data):\n",
    "    fabric = set()\n",
    "    overlap = set()\n",
    "    for item in data:\n",
    "        before_size = len(fabric)\n",
    "        claim = get_claim(item)\n",
    "        for pos in claim:\n",
    "            if pos in fabric:\n",
    "                overlap.add(pos)\n",
    "            fabric.add(pos)\n",
    "    return len(overlap)"
   ]
  },
  {
   "cell_type": "code",
   "execution_count": 3,
   "id": "61f36060",
   "metadata": {},
   "outputs": [],
   "source": [
    "from itertools import product\n",
    "\n",
    "def get_claim(item):\n",
    "    id, x, y, w, h = get_item_data(item)\n",
    "    return set(product(range(x, x+w), range(y, y+h)))"
   ]
  },
  {
   "cell_type": "code",
   "execution_count": 4,
   "id": "fa0adf8e",
   "metadata": {},
   "outputs": [],
   "source": [
    "def get_item_data(item):\n",
    "    parts = item.split(' ')\n",
    "    id = int(parts[0].replace('#', ''))\n",
    "    x, y = [int(i) for i in parts[2].replace(':', '').split(',')]\n",
    "    w, h = [int(i) for i in parts[3].split('x')]\n",
    "    return (id, x, y, w, h)"
   ]
  },
  {
   "cell_type": "code",
   "execution_count": 5,
   "id": "cee3d0e3",
   "metadata": {},
   "outputs": [],
   "source": [
    "def get_claims_dict(data):\n",
    "    claims = {}\n",
    "    for item in data:\n",
    "        claim = get_claim(item)\n",
    "        for pos in claim:\n",
    "            if pos in claims.keys():\n",
    "                claims[pos] += 1\n",
    "            else:\n",
    "                claims[pos] = 1\n",
    "    return claims"
   ]
  },
  {
   "cell_type": "code",
   "execution_count": 6,
   "id": "6fb01233",
   "metadata": {},
   "outputs": [],
   "source": [
    "def find_unique_claim(data):\n",
    "    claims = get_claims_dict(data)\n",
    "    for item in data:\n",
    "        id, x, y, w, h = get_item_data(item)\n",
    "        claim = get_claim(item)\n",
    "        if all(claims[pos] == 1 for pos in claim):\n",
    "            return id"
   ]
  },
  {
   "cell_type": "code",
   "execution_count": 7,
   "id": "120bf9d3",
   "metadata": {},
   "outputs": [],
   "source": [
    "test_data = \"\"\"#1 @ 1,3: 4x4\n",
    "#2 @ 3,1: 4x4\n",
    "#3 @ 5,5: 2x2\"\"\".split('\\n')"
   ]
  },
  {
   "cell_type": "code",
   "execution_count": 8,
   "id": "2bd8c2b1",
   "metadata": {},
   "outputs": [],
   "source": [
    "assert count_overlap(test_data) == 4\n",
    "assert find_unique_claim(test_data) == 3"
   ]
  },
  {
   "cell_type": "code",
   "execution_count": 9,
   "id": "77afade6",
   "metadata": {},
   "outputs": [
    {
     "name": "stdout",
     "output_type": "stream",
     "text": [
      "Part 1:\n",
      "119572\n"
     ]
    }
   ],
   "source": [
    "print(\"Part 1:\")\n",
    "print(count_overlap(data))"
   ]
  },
  {
   "cell_type": "code",
   "execution_count": 10,
   "id": "84594679",
   "metadata": {},
   "outputs": [
    {
     "name": "stdout",
     "output_type": "stream",
     "text": [
      "Part 2:\n",
      "775\n"
     ]
    }
   ],
   "source": [
    "print(\"Part 2:\")\n",
    "print(find_unique_claim(data))"
   ]
  }
 ],
 "metadata": {
  "kernelspec": {
   "display_name": "Python 3 (ipykernel)",
   "language": "python",
   "name": "python3"
  },
  "language_info": {
   "codemirror_mode": {
    "name": "ipython",
    "version": 3
   },
   "file_extension": ".py",
   "mimetype": "text/x-python",
   "name": "python",
   "nbconvert_exporter": "python",
   "pygments_lexer": "ipython3",
   "version": "3.9.5"
  }
 },
 "nbformat": 4,
 "nbformat_minor": 5
}
