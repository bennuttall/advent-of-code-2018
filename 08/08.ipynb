{
 "cells": [
  {
   "cell_type": "code",
   "execution_count": 1,
   "id": "ed5923e9",
   "metadata": {},
   "outputs": [],
   "source": [
    "def get_data():\n",
    "    with open('input') as inp:\n",
    "        return [int(d) for d in inp.readline().split(' ')]"
   ]
  },
  {
   "cell_type": "code",
   "execution_count": 2,
   "id": "5a7725dd",
   "metadata": {},
   "outputs": [],
   "source": [
    "test_data_raw = \"2 3 0 3 10 11 12 1 1 0 1 99 2 1 1 2\""
   ]
  },
  {
   "cell_type": "code",
   "execution_count": 3,
   "id": "da4725ce",
   "metadata": {},
   "outputs": [],
   "source": [
    "def sum_tree(data):\n",
    "    nc = data.pop(0)\n",
    "    nm = data.pop(0)\n",
    "    return sum(sum_tree(data) for i in range(nc)) + sum(data.pop(0) for i in range(nm))"
   ]
  },
  {
   "cell_type": "code",
   "execution_count": 4,
   "id": "17d91600",
   "metadata": {},
   "outputs": [],
   "source": [
    "def tree_value(data):\n",
    "    nc = data.pop(0)\n",
    "    nm = data.pop(0)\n",
    "    values = [tree_value(data) for i in range(nc)]\n",
    "    metadata = [data.pop(0) for i in range(nm)]\n",
    "    if nc == 0:\n",
    "        return sum(metadata)\n",
    "    return sum(values[i-1] for i in metadata if i-1 in range(nc))"
   ]
  },
  {
   "cell_type": "code",
   "execution_count": 5,
   "id": "57104566",
   "metadata": {},
   "outputs": [],
   "source": [
    "test_data = [int(d) for d in test_data_raw.split(' ')]\n",
    "assert sum_tree(test_data) == 138\n",
    "test_data = [int(d) for d in test_data_raw.split(' ')]\n",
    "assert tree_value(test_data) == 66"
   ]
  },
  {
   "cell_type": "code",
   "execution_count": 6,
   "id": "9d20c6bd",
   "metadata": {
    "scrolled": true
   },
   "outputs": [
    {
     "name": "stdout",
     "output_type": "stream",
     "text": [
      "Part 1:\n",
      "42768\n"
     ]
    }
   ],
   "source": [
    "data = get_data()\n",
    "print(\"Part 1:\")\n",
    "print(sum_tree(data))"
   ]
  },
  {
   "cell_type": "code",
   "execution_count": 7,
   "id": "ca04f687",
   "metadata": {},
   "outputs": [
    {
     "name": "stdout",
     "output_type": "stream",
     "text": [
      "Part 2:\n",
      "34348\n"
     ]
    }
   ],
   "source": [
    "data = get_data()\n",
    "print(\"Part 2:\")\n",
    "print(tree_value(data))"
   ]
  }
 ],
 "metadata": {
  "kernelspec": {
   "display_name": "Python 3 (ipykernel)",
   "language": "python",
   "name": "python3"
  },
  "language_info": {
   "codemirror_mode": {
    "name": "ipython",
    "version": 3
   },
   "file_extension": ".py",
   "mimetype": "text/x-python",
   "name": "python",
   "nbconvert_exporter": "python",
   "pygments_lexer": "ipython3",
   "version": "3.9.5"
  }
 },
 "nbformat": 4,
 "nbformat_minor": 5
}
