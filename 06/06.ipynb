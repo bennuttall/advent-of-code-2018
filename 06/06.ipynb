{
 "cells": [
  {
   "cell_type": "code",
   "execution_count": 1,
   "id": "3c42a84b",
   "metadata": {},
   "outputs": [],
   "source": [
    "with open('input') as inp:\n",
    "    data = [line.strip().split(', ') for line in inp.readlines()]\n",
    "    coords = [(int(x), int(y)) for (x, y) in data]\n",
    "    chars = \"ABCDEFGHIJKLMNOPQRSTUVWXYZ1234567890-=_+[]{};:@#<>\"\n",
    "    locations = {char: pos for char, pos in zip(chars, coords)}"
   ]
  },
  {
   "cell_type": "code",
   "execution_count": 2,
   "id": "483fbed7",
   "metadata": {},
   "outputs": [],
   "source": [
    "test_locations = {\n",
    "    'A': (1, 1),\n",
    "    'B': (1, 6),\n",
    "    'C': (8, 3),\n",
    "    'D': (3, 4),\n",
    "    'E': (5, 5),\n",
    "    'F': (8, 9),\n",
    "}"
   ]
  },
  {
   "cell_type": "code",
   "execution_count": 3,
   "id": "ea4b1f7f",
   "metadata": {},
   "outputs": [],
   "source": [
    "test_output = \"\"\"\n",
    "aaaaa.cccc\n",
    "aAaaa.cccc\n",
    "aaaddecccc\n",
    "aadddeccCc\n",
    "..dDdeeccc\n",
    "bb.deEeecc\n",
    "bBb.eeee..\n",
    "bbb.eeefff\n",
    "bbb.eeffff\n",
    "bbb.ffffFf\n",
    "\"\"\"[1:-1]  # remove starting and trailing \\n"
   ]
  },
  {
   "cell_type": "code",
   "execution_count": 4,
   "id": "5a9d5909",
   "metadata": {},
   "outputs": [],
   "source": [
    "import numpy as np\n",
    "from scipy.spatial.distance import cityblock\n",
    "import operator\n",
    "\n",
    "class Map:\n",
    "    def __init__(self, locations, case=False):\n",
    "        self.locations = locations\n",
    "        self.case = case\n",
    "        self.construct_map()\n",
    "\n",
    "    def __str__(self):\n",
    "        s = ''\n",
    "        for row in self.map:\n",
    "            for i in row:\n",
    "                s += i\n",
    "            s += '\\n'\n",
    "        return s[:-1]\n",
    "\n",
    "    @property\n",
    "    def size(self):\n",
    "        coords = self.locations.values()\n",
    "        max_x = max(coords, key=operator.itemgetter(0))[0]\n",
    "        max_y = max(coords, key=operator.itemgetter(1))[1]\n",
    "        return max(max_x, max_y) + 1\n",
    "\n",
    "    def construct_map(self):\n",
    "        size = self.size\n",
    "        self.map = np.zeros((size, size), dtype=str)\n",
    "        for x in range(size):\n",
    "            for y in range(size):\n",
    "                self.map[y, x] = self.find_closest_location(x, y)\n",
    "\n",
    "    def find_closest_location(self, x, y):\n",
    "        closest, second_closest = sorted([\n",
    "            (p, cityblock([x, y], [xi, yi]))\n",
    "            for (p, (xi, yi)) in self.locations.items()\n",
    "        ], key=operator.itemgetter(1))[:2]\n",
    "        if closest[1] == second_closest[1]:\n",
    "            return '.'\n",
    "        ch = closest[0]\n",
    "        if self.case:\n",
    "            return ch if (x, y) in self.locations.values() else ch.lower()\n",
    "        return ch\n",
    "\n",
    "    @property\n",
    "    def finite_locations(self):\n",
    "        edges = (self.map[:,0], self.map[:,-1], self.map[0,:], self.map[-1,:])\n",
    "        if self.case:\n",
    "            infinite_locations = {ch.upper() for edge in edges for ch in edge} - set('.')\n",
    "        else:\n",
    "            infinite_locations = {ch for edge in edges for ch in edge} - set('.')\n",
    "        return [loc for loc in self.locations if loc not in infinite_locations]\n",
    "\n",
    "    @property\n",
    "    def finite_areas(self):\n",
    "        return {\n",
    "            loc: str(self).upper().count(loc)\n",
    "            for loc in self.finite_locations\n",
    "        }\n",
    "\n",
    "    @property\n",
    "    def largest_finite_area(self):\n",
    "        return max(self.finite_areas.items(), key=operator.itemgetter(1))[1]\n",
    "\n",
    "    def size_of_central_region(self, n):\n",
    "        def calculate_distance(p1, p2):\n",
    "            x1, y1 = p1\n",
    "            x2, y2 = p2\n",
    "            return (abs(x1-x2) + abs(y1-y2))\n",
    "\n",
    "        def sum_distances(p1, p2s):\n",
    "            return sum(calculate_distance(p1, p2) for p2 in p2s)\n",
    "\n",
    "        size = self.size\n",
    "        c = 0\n",
    "        for x in range(size):\n",
    "            for y in range(size):\n",
    "                b = sum_distances((x, y), self.locations.values())\n",
    "                if b < n:\n",
    "                    c += 1\n",
    "        return c"
   ]
  },
  {
   "cell_type": "code",
   "execution_count": 5,
   "id": "e82c430e",
   "metadata": {},
   "outputs": [],
   "source": [
    "map = Map(test_locations, case=True)\n",
    "assert str(map) == test_output\n",
    "assert map.finite_locations == ['D', 'E']\n",
    "assert map.finite_areas == {'D': 9, 'E': 17}\n",
    "assert map.largest_finite_area == 17\n",
    "assert map.size_of_central_region(32) == 16"
   ]
  },
  {
   "cell_type": "code",
   "execution_count": 6,
   "id": "25a83a4a",
   "metadata": {},
   "outputs": [
    {
     "name": "stdout",
     "output_type": "stream",
     "text": [
      "Part 1:\n",
      "4186\n"
     ]
    }
   ],
   "source": [
    "map = Map(locations)\n",
    "print(\"Part 1:\")\n",
    "print(map.largest_finite_area)"
   ]
  },
  {
   "cell_type": "code",
   "execution_count": 7,
   "id": "81ca429c",
   "metadata": {},
   "outputs": [
    {
     "name": "stdout",
     "output_type": "stream",
     "text": [
      "Part 2:\n",
      "45509\n"
     ]
    }
   ],
   "source": [
    "print(\"Part 2:\")\n",
    "print(map.size_of_central_region(10000))"
   ]
  }
 ],
 "metadata": {
  "kernelspec": {
   "display_name": "Python 3 (ipykernel)",
   "language": "python",
   "name": "python3"
  },
  "language_info": {
   "codemirror_mode": {
    "name": "ipython",
    "version": 3
   },
   "file_extension": ".py",
   "mimetype": "text/x-python",
   "name": "python",
   "nbconvert_exporter": "python",
   "pygments_lexer": "ipython3",
   "version": "3.9.5"
  }
 },
 "nbformat": 4,
 "nbformat_minor": 5
}
