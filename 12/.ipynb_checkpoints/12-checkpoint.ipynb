{
 "cells": [
  {
   "cell_type": "code",
   "execution_count": 1,
   "id": "fd6241c8",
   "metadata": {},
   "outputs": [],
   "source": [
    "from itertools import islice\n",
    "\n",
    "def windowed(seq, n=2):\n",
    "    \"Returns a sliding window (of width n) over data from the iterable\"\n",
    "    \"   s -> (s0,s1,...s[n-1]), (s1,s2,...,sn), ...                   \"\n",
    "    it = iter(seq)\n",
    "    result = tuple(islice(it, n))\n",
    "    if len(result) == n:\n",
    "        yield ''.join(result)\n",
    "    for elem in it:\n",
    "        result = result[1:] + (elem,)\n",
    "        yield ''.join(result)"
   ]
  },
  {
   "cell_type": "code",
   "execution_count": 2,
   "id": "f5e624b2",
   "metadata": {},
   "outputs": [],
   "source": [
    "def get_input(file):\n",
    "    with open(file) as inp:\n",
    "        plants = inp.readline()[15:].strip()\n",
    "        rules = [rule.replace(' => #\\n', '')\n",
    "                 for rule in inp.readlines()\n",
    "                 if rule.endswith('#\\n')]\n",
    "    return plants, rules"
   ]
  },
  {
   "cell_type": "code",
   "execution_count": 3,
   "id": "65ac0cfc",
   "metadata": {},
   "outputs": [],
   "source": [
    "plants = '#..#.#..##......###...###'\n",
    "\n",
    "rules = [\n",
    "    '...##',\n",
    "    '..#..',\n",
    "    '.#...',\n",
    "    '.#.#.',\n",
    "    '.#.##',\n",
    "    '.##..',\n",
    "    '.####',\n",
    "    '#.#.#',\n",
    "    '#.###',\n",
    "    '##.#.',\n",
    "    '##.##',\n",
    "    '###..',\n",
    "    '###.#',\n",
    "    '####.',\n",
    "]\n",
    "\n",
    "expected = [\n",
    "    '...#..#.#..##......###...###...........',\n",
    "    '...#...#....#.....#..#..#..#...........',\n",
    "    '...##..##...##....#..#..#..##..........',\n",
    "    '..#.#...#..#.#....#..#..#...#..........',\n",
    "    '...#.#..#...#.#...#..#..##..##.........',\n",
    "    '....#...##...#.#..#..#...#...#.........',\n",
    "    '....##.#.#....#...#..##..##..##........',\n",
    "    '...#..###.#...##..#...#...#...#........',\n",
    "    '...#....##.#.#.#..##..##..##..##.......',\n",
    "    '...##..#..#####....#...#...#...#.......',\n",
    "    '..#.#..#...#.##....##..##..##..##......',\n",
    "    '...#...##...#.#...#.#...#...#...#......',\n",
    "    '...##.#.#....#.#...#.#..##..##..##.....',\n",
    "    '..#..###.#....#.#...#....#...#...#.....',\n",
    "    '..#....##.#....#.#..##...##..##..##....',\n",
    "    '..##..#..#.#....#....#..#.#...#...#....',\n",
    "    '.#.#..#...#.#...##...#...#.#..##..##...',\n",
    "    '..#...##...#.#.#.#...##...#....#...#...',\n",
    "    '..##.#.#....#####.#.#.#...##...##..##..',\n",
    "    '.#..###.#..#.#.#######.#.#.#..#.#...#..',\n",
    "    '.#....##....#####...#######....#.#..##.',\n",
    "]"
   ]
  },
  {
   "cell_type": "code",
   "execution_count": 4,
   "id": "255b95c8",
   "metadata": {},
   "outputs": [],
   "source": [
    "class Plants:\n",
    "    def __init__(self, plants, rules):\n",
    "        self.live_plants = {i for i, p in enumerate(plants) if p == '#'}\n",
    "        self.rules = rules\n",
    "\n",
    "    def __str__(self):\n",
    "        return ''.join('#' if i in self.live_plants else '.' for i in self.range)\n",
    "\n",
    "    def __iter__(self):\n",
    "        return self\n",
    "\n",
    "    def __next__(self):\n",
    "        self.live_plants = {\n",
    "            i\n",
    "            for i in self.extended_range\n",
    "            if self.slice(i) in self.rules\n",
    "        }\n",
    "        return self\n",
    "\n",
    "    @property\n",
    "    def range(self):\n",
    "        return range(min(self.live_plants), max(self.live_plants) + 1)\n",
    "\n",
    "    @property\n",
    "    def extended_range(self):\n",
    "        return range(min(self.live_plants) - 2, max(self.live_plants) + 3)\n",
    "\n",
    "    def slice(self, mid):\n",
    "        pots = range(mid - 2, mid + 3)  # ppPpp\n",
    "        return ''.join('#' if i in self.live_plants else '.' for i in pots)\n",
    "\n",
    "    def show(self, start, end):\n",
    "        pots = range(start, end + 1)\n",
    "        return ''.join('#' if i in self.live_plants else '.' for i in pots)\n",
    "\n",
    "    def sum(self):\n",
    "        return sum(self.live_plants)"
   ]
  },
  {
   "cell_type": "code",
   "execution_count": 5,
   "id": "16a70356",
   "metadata": {},
   "outputs": [],
   "source": [
    "plants = Plants(plants, rules)\n",
    "exp = expected.pop(0)\n",
    "assert plants.show(-3, 35) == exp\n",
    "for exp, p in zip(expected, plants):\n",
    "    assert p.show(-3, 35) == exp\n",
    "assert plants.sum() == 325"
   ]
  },
  {
   "cell_type": "code",
   "execution_count": 6,
   "id": "c2d4ac66",
   "metadata": {},
   "outputs": [
    {
     "name": "stdout",
     "output_type": "stream",
     "text": [
      "Part 1:\n",
      "3221\n"
     ]
    }
   ],
   "source": [
    "plants, rules = get_input('input')\n",
    "\n",
    "plants = Plants(plants, rules)\n",
    "for i in range(20):\n",
    "    next(plants)\n",
    "print(\"Part 1:\")\n",
    "print(plants.sum())"
   ]
  },
  {
   "cell_type": "code",
   "execution_count": 7,
   "id": "68a7b834",
   "metadata": {},
   "outputs": [
    {
     "name": "stdout",
     "output_type": "stream",
     "text": [
      "Part 2:\n",
      "2600000001872\n"
     ]
    }
   ],
   "source": [
    "plants, rules = get_input('input')\n",
    "\n",
    "print(\"Part 2:\")\n",
    "plants = Plants(plants, rules)\n",
    "last_sum = 0\n",
    "last_diff = 0\n",
    "n = 50000000000\n",
    "for i in range(n):\n",
    "    next(plants)\n",
    "    new_sum = plants.sum()\n",
    "    diff = new_sum - last_sum\n",
    "    if diff == last_diff:\n",
    "        print(plants.sum() + (n-i-1)*diff)\n",
    "        break\n",
    "    last_sum = new_sum\n",
    "    last_diff = diff"
   ]
  }
 ],
 "metadata": {
  "kernelspec": {
   "display_name": "Python 3 (ipykernel)",
   "language": "python",
   "name": "python3"
  },
  "language_info": {
   "codemirror_mode": {
    "name": "ipython",
    "version": 3
   },
   "file_extension": ".py",
   "mimetype": "text/x-python",
   "name": "python",
   "nbconvert_exporter": "python",
   "pygments_lexer": "ipython3",
   "version": "3.9.5"
  }
 },
 "nbformat": 4,
 "nbformat_minor": 5
}
