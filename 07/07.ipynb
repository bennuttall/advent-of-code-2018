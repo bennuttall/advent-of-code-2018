{
 "cells": [
  {
   "cell_type": "code",
   "execution_count": 1,
   "id": "1d53c23a",
   "metadata": {},
   "outputs": [],
   "source": [
    "with open('input') as inp:\n",
    "    data = [line.strip() for line in inp.readlines()]"
   ]
  },
  {
   "cell_type": "code",
   "execution_count": 2,
   "id": "83097aff",
   "metadata": {},
   "outputs": [],
   "source": [
    "test_data_1 = [\"Step B must be finished before step A can begin.\"]\n",
    "\n",
    "test_data = \"\"\"\n",
    "Step C must be finished before step A can begin.\n",
    "Step C must be finished before step F can begin.\n",
    "Step A must be finished before step B can begin.\n",
    "Step A must be finished before step D can begin.\n",
    "Step B must be finished before step E can begin.\n",
    "Step D must be finished before step E can begin.\n",
    "Step F must be finished before step E can begin.\n",
    "\"\"\"[1:-1].split('\\n')"
   ]
  },
  {
   "cell_type": "code",
   "execution_count": 3,
   "id": "92316222",
   "metadata": {},
   "outputs": [],
   "source": [
    "def create_dependency_dict(data):\n",
    "    dependencies = {}\n",
    "    for rule in data:\n",
    "        a = rule[36]\n",
    "        b = rule[5]\n",
    "        if a not in dependencies:\n",
    "            dependencies[a] = set()\n",
    "        if b not in dependencies:\n",
    "            dependencies[b] = set()\n",
    "        dependencies[a].add(b)\n",
    "    return dependencies"
   ]
  },
  {
   "cell_type": "code",
   "execution_count": 4,
   "id": "16719ab6",
   "metadata": {},
   "outputs": [],
   "source": [
    "def order_steps(data):\n",
    "    dependencies = create_dependency_dict(data)\n",
    "    steps = []\n",
    "    available_steps = set()\n",
    "    while len(steps) < len(dependencies):\n",
    "        for step, deps in dependencies.items():\n",
    "            if step not in steps:\n",
    "                if all(dep in steps for dep in deps):\n",
    "                    available_steps.add(step)\n",
    "        next_step = sorted(available_steps)[0]\n",
    "        steps.append(next_step)\n",
    "        available_steps.remove(next_step)\n",
    "    return ''.join(steps)"
   ]
  },
  {
   "cell_type": "code",
   "execution_count": 5,
   "id": "a01f1ad3",
   "metadata": {},
   "outputs": [],
   "source": [
    "class TaskManager:\n",
    "    def __init__(self, data):\n",
    "        self.dependencies = create_dependency_dict(data)\n",
    "        self.assigned = []\n",
    "        self.done = []\n",
    "\n",
    "    @property\n",
    "    def complete(self):\n",
    "        return len(self.done) == len(self.dependencies)\n",
    "\n",
    "    @property\n",
    "    def next_step(self):\n",
    "        if len(self.assigned) < len(self.dependencies):\n",
    "            available_steps = set()\n",
    "            for step, deps in self.dependencies.items():\n",
    "                if step not in self.assigned:\n",
    "                    if all(dep in self.done for dep in deps):\n",
    "                        available_steps.add(step)\n",
    "            if available_steps:\n",
    "                return sorted(available_steps)[0]\n",
    "\n",
    "    def assign(self, step):\n",
    "        self.assigned.append(step)\n",
    "\n",
    "    def mark_done(self, step):\n",
    "        self.done.append(step)"
   ]
  },
  {
   "cell_type": "code",
   "execution_count": 6,
   "id": "84390c67",
   "metadata": {},
   "outputs": [],
   "source": [
    "def worker_factory():\n",
    "    return {\n",
    "        'current_step': None,\n",
    "        'finish_time': None,\n",
    "    }"
   ]
  },
  {
   "cell_type": "code",
   "execution_count": 7,
   "id": "5032d766",
   "metadata": {},
   "outputs": [],
   "source": [
    "class Workforce:\n",
    "    def __init__(self, data, n=1, base_task_time=0):\n",
    "        self.manager = TaskManager(data)\n",
    "        self.workers = [worker_factory() for i in range(n)]\n",
    "        deps = sorted(self.manager.dependencies)\n",
    "        self.task_times = {\n",
    "            step: n\n",
    "            for n, step in enumerate(deps, start=base_task_time + 1)\n",
    "        }\n",
    "        self.done = []\n",
    "        self.time = 0\n",
    "\n",
    "    def __next__(self):\n",
    "        self.time += 1\n",
    "\n",
    "    @property\n",
    "    def complete(self):\n",
    "        return self.manager.complete\n",
    "\n",
    "    @property\n",
    "    def time(self):\n",
    "        return self._time\n",
    "\n",
    "    @time.setter\n",
    "    def time(self, time):\n",
    "        self._time = time\n",
    "        self.check_tasks()\n",
    "        self.start_tasks()\n",
    "\n",
    "    def start_tasks(self):\n",
    "        for worker in self.workers:\n",
    "            next_step = self.manager.next_step\n",
    "            if worker['current_step'] is None and next_step:\n",
    "                self.assign(worker, next_step)\n",
    "\n",
    "    def assign(self, worker, step):\n",
    "        finish_time = self.time + self.task_times[step]\n",
    "        worker['current_step'] = step\n",
    "        worker['finish_time'] = finish_time\n",
    "        self.manager.assign(step)\n",
    "\n",
    "    def check_tasks(self):\n",
    "        for worker in self.workers:\n",
    "            if self.time == worker['finish_time']:\n",
    "                step = worker['current_step']\n",
    "                self.done.append(step)\n",
    "                self.manager.mark_done(step)\n",
    "                worker['finish_time'] = None\n",
    "                worker['current_step'] = None"
   ]
  },
  {
   "cell_type": "code",
   "execution_count": 8,
   "id": "eedf326b",
   "metadata": {},
   "outputs": [],
   "source": [
    "assert order_steps(test_data_1) == 'BA'\n",
    "assert order_steps(test_data) == 'CABDFE'\n",
    "\n",
    "manager = TaskManager(test_data_1)\n",
    "assert not manager.complete\n",
    "assert manager.next_step == 'B'\n",
    "manager.assign('B')\n",
    "assert manager.next_step is None\n",
    "manager.mark_done('B')\n",
    "assert manager.next_step == 'A'\n",
    "manager.assign('A')\n",
    "assert manager.next_step is None\n",
    "assert not manager.complete\n",
    "manager.mark_done('A')\n",
    "assert manager.next_step is None\n",
    "assert manager.complete\n",
    "\n",
    "manager = TaskManager(test_data)\n",
    "assert not manager.complete\n",
    "assert manager.next_step == 'C'\n",
    "manager.assign('C')\n",
    "assert manager.next_step is None\n",
    "manager.mark_done('C')\n",
    "assert manager.next_step == 'A'\n",
    "manager.assign('A')\n",
    "assert manager.next_step == 'F'\n",
    "manager.assign('F')\n",
    "manager.mark_done('A')\n",
    "assert manager.next_step == 'B'\n",
    "manager.assign('B')\n",
    "manager.mark_done('B')\n",
    "assert manager.next_step == 'D'\n",
    "manager.assign('D')\n",
    "manager.mark_done('F')\n",
    "manager.mark_done('D')\n",
    "assert manager.next_step == 'E'\n",
    "manager.assign('E')\n",
    "assert not manager.complete\n",
    "manager.mark_done('E')\n",
    "assert manager.complete\n",
    "\n",
    "wf = Workforce(test_data, n=2)\n",
    "w1, w2 = wf.workers\n",
    "assert not wf.complete\n",
    "assert wf.time == 0\n",
    "assert w1['current_step'] == 'C'\n",
    "assert w1['finish_time'] == 3, w1\n",
    "assert w2['current_step'] is None\n",
    "next(wf)\n",
    "assert wf.time == 1\n",
    "assert w1['current_step'] == 'C'\n",
    "assert w2['current_step'] is None\n",
    "next(wf)\n",
    "assert wf.done == []\n",
    "next(wf)\n",
    "assert wf.time == 3\n",
    "assert wf.done == ['C']\n",
    "assert w1['current_step'] == 'A'\n",
    "assert w2['current_step'] == 'F'\n",
    "for i in range(12):\n",
    "    assert not wf.complete\n",
    "    next(wf)\n",
    "assert wf.time == 15\n",
    "assert wf.complete\n",
    "assert wf.done == ['C', 'A', 'B', 'F', 'D', 'E']"
   ]
  },
  {
   "cell_type": "code",
   "execution_count": 9,
   "id": "2c679f1e",
   "metadata": {},
   "outputs": [],
   "source": [
    "wf = Workforce(test_data_1, base_task_time=10)\n",
    "w = wf.workers[0]\n",
    "assert wf.time == 0\n",
    "for i in range(12):\n",
    "    assert w['current_step'] == 'B'\n",
    "    assert not wf.complete\n",
    "    next(wf)\n",
    "assert wf.time == 12\n",
    "for i in range(11):\n",
    "    assert w['current_step'] == 'A'\n",
    "    assert not wf.complete\n",
    "    next(wf)\n",
    "assert wf.complete\n",
    "assert wf.done == ['B', 'A']"
   ]
  },
  {
   "cell_type": "code",
   "execution_count": 10,
   "id": "3f8f4c12",
   "metadata": {},
   "outputs": [
    {
     "name": "stdout",
     "output_type": "stream",
     "text": [
      "Part 1:\n",
      "JKNSTHCBGRVDXWAYFOQLMPZIUE\n"
     ]
    }
   ],
   "source": [
    "print(\"Part 1:\")\n",
    "print(order_steps(data))"
   ]
  },
  {
   "cell_type": "code",
   "execution_count": 11,
   "id": "0ab4eea0",
   "metadata": {},
   "outputs": [
    {
     "name": "stdout",
     "output_type": "stream",
     "text": [
      "Part 2:\n",
      "755\n"
     ]
    }
   ],
   "source": [
    "wf = Workforce(data, n=5, base_task_time=60)\n",
    "while not wf.complete:\n",
    "    next(wf)\n",
    "\n",
    "print(\"Part 2:\")\n",
    "print(wf.time)"
   ]
  }
 ],
 "metadata": {
  "kernelspec": {
   "display_name": "Python 3 (ipykernel)",
   "language": "python",
   "name": "python3"
  },
  "language_info": {
   "codemirror_mode": {
    "name": "ipython",
    "version": 3
   },
   "file_extension": ".py",
   "mimetype": "text/x-python",
   "name": "python",
   "nbconvert_exporter": "python",
   "pygments_lexer": "ipython3",
   "version": "3.9.5"
  }
 },
 "nbformat": 4,
 "nbformat_minor": 5
}
