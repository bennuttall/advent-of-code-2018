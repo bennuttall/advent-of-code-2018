{
 "cells": [
  {
   "cell_type": "code",
   "execution_count": 1,
   "id": "0c8f8915",
   "metadata": {},
   "outputs": [],
   "source": [
    "with open('input') as inp:\n",
    "    data = [int(s.strip()) for s in inp.readlines()]"
   ]
  },
  {
   "cell_type": "code",
   "execution_count": 2,
   "id": "06ae3d8c",
   "metadata": {},
   "outputs": [],
   "source": [
    "def test(data, expected):\n",
    "    actual = calculate(data)\n",
    "    assert actual == expected, actual"
   ]
  },
  {
   "cell_type": "code",
   "execution_count": 3,
   "id": "6104f1f4",
   "metadata": {},
   "outputs": [],
   "source": [
    "d = [1, 1, 1]\n",
    "assert sum(d) == 3\n",
    "d = [1, 1, -2]\n",
    "assert sum(d) == 0\n",
    "d = [-1, -2, -3]\n",
    "assert sum(d) == -6"
   ]
  },
  {
   "cell_type": "code",
   "execution_count": 4,
   "id": "414362b0",
   "metadata": {},
   "outputs": [
    {
     "name": "stdout",
     "output_type": "stream",
     "text": [
      "Part 1:\n",
      "474\n"
     ]
    }
   ],
   "source": [
    "print(\"Part 1:\")\n",
    "print(sum(data))"
   ]
  },
  {
   "cell_type": "code",
   "execution_count": 5,
   "id": "963d7edb",
   "metadata": {},
   "outputs": [],
   "source": [
    "from itertools import cycle\n",
    "\n",
    "def calculate(data):\n",
    "    f = 0\n",
    "    fs = set([f])\n",
    "\n",
    "    for d in cycle(data):\n",
    "        f += d\n",
    "        if f in fs:\n",
    "            return f\n",
    "        fs.add(f)"
   ]
  },
  {
   "cell_type": "code",
   "execution_count": 6,
   "id": "fd3e103a",
   "metadata": {},
   "outputs": [],
   "source": [
    "d = [1, -1]\n",
    "test(d, 0)\n",
    "d = [3, 3, 4, -2, -4]\n",
    "test(d, 10)\n",
    "d = [-6, +3, +8, +5, -6]\n",
    "test(d, 5)\n",
    "d = [7, 7, -2, -7, -4]\n",
    "test(d, 14)"
   ]
  },
  {
   "cell_type": "code",
   "execution_count": 7,
   "id": "90971969",
   "metadata": {},
   "outputs": [
    {
     "name": "stdout",
     "output_type": "stream",
     "text": [
      "Part 2:\n",
      "137041\n"
     ]
    }
   ],
   "source": [
    "print(\"Part 2:\")\n",
    "print(calculate(data))"
   ]
  }
 ],
 "metadata": {
  "kernelspec": {
   "display_name": "Python 3 (ipykernel)",
   "language": "python",
   "name": "python3"
  },
  "language_info": {
   "codemirror_mode": {
    "name": "ipython",
    "version": 3
   },
   "file_extension": ".py",
   "mimetype": "text/x-python",
   "name": "python",
   "nbconvert_exporter": "python",
   "pygments_lexer": "ipython3",
   "version": "3.9.5"
  }
 },
 "nbformat": 4,
 "nbformat_minor": 5
}
