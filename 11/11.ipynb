{
 "cells": [
  {
   "cell_type": "code",
   "execution_count": 1,
   "id": "786d0989",
   "metadata": {},
   "outputs": [],
   "source": [
    "SIZE = 300\n",
    "GRID_SERIAL_NUMBER = 8199"
   ]
  },
  {
   "cell_type": "code",
   "execution_count": 2,
   "id": "9d2ff22d",
   "metadata": {},
   "outputs": [],
   "source": [
    "def get_power_level(x, y, serial):\n",
    "    rack_id = x + 10\n",
    "    foo = ((rack_id * y) + serial) * rack_id\n",
    "    return int(str(foo)[-3]) - 5"
   ]
  },
  {
   "cell_type": "code",
   "execution_count": 3,
   "id": "7bbb8f2a",
   "metadata": {},
   "outputs": [],
   "source": [
    "import numpy as np\n",
    "\n",
    "def get_power_level_grid(serial):\n",
    "    grid = np.zeros((SIZE, SIZE), dtype=np.int32)\n",
    "    for x in range(SIZE):\n",
    "        for y in range(SIZE):\n",
    "            grid[x,y] = get_power_level(x+1, y+1, serial)\n",
    "    return grid"
   ]
  },
  {
   "cell_type": "code",
   "execution_count": 4,
   "id": "7c8917e6",
   "metadata": {},
   "outputs": [],
   "source": [
    "from operator import itemgetter\n",
    "\n",
    "def find_largest_square(grid, n):\n",
    "    squares = {}\n",
    "    for x in range(SIZE - (n - 1)):\n",
    "        for y in range(SIZE - (n - 1)):\n",
    "            squares[(x, y)] = grid[x:x+n,y:y+n].sum()\n",
    "    largest = max(squares.items(), key=itemgetter(1))\n",
    "    (x, y), largest_sum = largest\n",
    "    return (x+1, y+1, largest_sum)"
   ]
  },
  {
   "cell_type": "code",
   "execution_count": 5,
   "id": "9aebd974",
   "metadata": {},
   "outputs": [],
   "source": [
    "def find_largest_square_any_size(serial):\n",
    "    grid = get_power_level_grid(serial)\n",
    "    largest_squares = {n+1: find_largest_square(grid, n + 1) for n in range(SIZE)}\n",
    "    largest = max(largest_squares.items(), key=lambda e: e[1][2])\n",
    "    n, (x, y, largest_sum) = largest\n",
    "    return (x, y, n, largest_sum)"
   ]
  },
  {
   "cell_type": "code",
   "execution_count": 6,
   "id": "a54d0e8a",
   "metadata": {},
   "outputs": [],
   "source": [
    "assert get_power_level(3, 5, 8) == 4\n",
    "assert get_power_level(122, 79, 57) == -5\n",
    "assert get_power_level(217, 196, 39) == 0\n",
    "assert get_power_level(101, 153, 71) == 4\n",
    "\n",
    "grid = get_power_level_grid(18)\n",
    "assert find_largest_square(grid, 3) == (33, 45, 29)\n",
    "grid = get_power_level_grid(42)\n",
    "assert find_largest_square(grid, 3) == (21, 61, 30)"
   ]
  },
  {
   "cell_type": "code",
   "execution_count": 7,
   "id": "0815fd67",
   "metadata": {},
   "outputs": [
    {
     "name": "stdout",
     "output_type": "stream",
     "text": [
      "Part 1:\n",
      "(235, 87)\n"
     ]
    }
   ],
   "source": [
    "grid = get_power_level_grid()\n",
    "print(\"Part 1:\")\n",
    "print(find_largest_square(grid, 3)[:2])"
   ]
  },
  {
   "cell_type": "code",
   "execution_count": 8,
   "id": "f6be6692",
   "metadata": {},
   "outputs": [],
   "source": [
    "assert find_largest_square_any_size(18) == (90, 269, 16, 113)\n",
    "assert find_largest_square_any_size(42) == (232, 251, 12, 119)"
   ]
  },
  {
   "cell_type": "code",
   "execution_count": 9,
   "id": "228d8437",
   "metadata": {},
   "outputs": [
    {
     "name": "stdout",
     "output_type": "stream",
     "text": [
      "Part 2:\n",
      "(234, 272, 18, 119)\n"
     ]
    }
   ],
   "source": [
    "print(\"Part 2:\")\n",
    "print(find_largest_square_any_size(GRID_SERIAL_NUMBER))"
   ]
  }
 ],
 "metadata": {
  "kernelspec": {
   "display_name": "Python 3 (ipykernel)",
   "language": "python",
   "name": "python3"
  },
  "language_info": {
   "codemirror_mode": {
    "name": "ipython",
    "version": 3
   },
   "file_extension": ".py",
   "mimetype": "text/x-python",
   "name": "python",
   "nbconvert_exporter": "python",
   "pygments_lexer": "ipython3",
   "version": "3.9.5"
  }
 },
 "nbformat": 4,
 "nbformat_minor": 5
}
